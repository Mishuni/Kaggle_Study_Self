{
 "cells": [
  {
   "cell_type": "code",
   "execution_count": 1,
   "id": "processed-landing",
   "metadata": {
    "_cell_guid": "b1076dfc-b9ad-4769-8c92-a6c4dae69d19",
    "_uuid": "8f2839f25d086af736a60e9eeb907d3b93b6e0e5",
    "execution": {
     "iopub.execute_input": "2021-05-23T06:33:13.146928Z",
     "iopub.status.busy": "2021-05-23T06:33:13.146479Z",
     "iopub.status.idle": "2021-05-23T06:33:13.153964Z",
     "shell.execute_reply": "2021-05-23T06:33:13.153210Z",
     "shell.execute_reply.started": "2021-05-22T06:38:08.182184Z"
    },
    "papermill": {
     "duration": 0.024841,
     "end_time": "2021-05-23T06:33:13.154127",
     "exception": false,
     "start_time": "2021-05-23T06:33:13.129286",
     "status": "completed"
    },
    "tags": []
   },
   "outputs": [
    {
     "name": "stdout",
     "output_type": "stream",
     "text": [
      "/kaggle/input/statoil-iceberg-classifier-challenge/train.json.7z\n",
      "/kaggle/input/statoil-iceberg-classifier-challenge/test.json.7z\n",
      "/kaggle/input/statoil-iceberg-classifier-challenge/sample_submission.csv.7z\n"
     ]
    }
   ],
   "source": [
    "# This Python 3 environment comes with many helpful analytics libraries installed\n",
    "# It is defined by the kaggle/python Docker image: https://github.com/kaggle/docker-python\n",
    "# For example, here's several helpful packages to load\n",
    "\n",
    "import numpy as np # linear algebra\n",
    "import pandas as pd # data processing, CSV file I/O (e.g. pd.read_csv)\n",
    "\n",
    "# Input data files are available in the read-only \"../input/\" directory\n",
    "# For example, running this (by clicking run or pressing Shift+Enter) will list all files under the input directory\n",
    "\n",
    "import os\n",
    "for dirname, _, filenames in os.walk('/kaggle/input'):\n",
    "    for filename in filenames:\n",
    "        print(os.path.join(dirname, filename))\n",
    "\n",
    "# You can write up to 20GB to the current directory (/kaggle/working/) that gets preserved as output when you create a version using \"Save & Run All\" \n",
    "# You can also write temporary files to /kaggle/temp/, but they won't be saved outside of the current session"
   ]
  },
  {
   "cell_type": "code",
   "execution_count": 2,
   "id": "rental-wound",
   "metadata": {
    "execution": {
     "iopub.execute_input": "2021-05-23T06:33:13.190305Z",
     "iopub.status.busy": "2021-05-23T06:33:13.189817Z",
     "iopub.status.idle": "2021-05-23T06:33:56.526155Z",
     "shell.execute_reply": "2021-05-23T06:33:56.526684Z",
     "shell.execute_reply.started": "2021-05-22T06:38:08.195339Z"
    },
    "papermill": {
     "duration": 43.357657,
     "end_time": "2021-05-23T06:33:56.526836",
     "exception": false,
     "start_time": "2021-05-23T06:33:13.169179",
     "status": "completed"
    },
    "tags": []
   },
   "outputs": [
    {
     "name": "stdout",
     "output_type": "stream",
     "text": [
      "Collecting py7zr\r\n",
      "  Downloading py7zr-0.16.1-py3-none-any.whl (65 kB)\r\n",
      "\u001b[K     |████████████████████████████████| 65 kB 583 kB/s \r\n",
      "\u001b[?25hCollecting pyzstd<0.15.0,>=0.14.4\r\n",
      "  Downloading pyzstd-0.14.4-cp37-cp37m-manylinux2014_x86_64.whl (2.2 MB)\r\n",
      "\u001b[K     |████████████████████████████████| 2.2 MB 1.1 MB/s \r\n",
      "\u001b[?25hRequirement already satisfied: texttable in /opt/conda/lib/python3.7/site-packages (from py7zr) (1.6.3)\r\n",
      "Requirement already satisfied: importlib-metadata in /opt/conda/lib/python3.7/site-packages (from py7zr) (3.4.0)\r\n",
      "Collecting pyppmd>=0.14.0\r\n",
      "  Downloading pyppmd-0.15.0-cp37-cp37m-manylinux2014_x86_64.whl (121 kB)\r\n",
      "\u001b[K     |████████████████████████████████| 121 kB 6.1 MB/s \r\n",
      "\u001b[?25hCollecting bcj-cffi<0.6.0,>=0.5.1\r\n",
      "  Downloading bcj_cffi-0.5.1-cp37-cp37m-manylinux2014_x86_64.whl (36 kB)\r\n",
      "Collecting pycryptodomex>=3.6.6\r\n",
      "  Downloading pycryptodomex-3.10.1-cp35-abi3-manylinux2010_x86_64.whl (1.9 MB)\r\n",
      "\u001b[K     |████████████████████████████████| 1.9 MB 5.9 MB/s \r\n",
      "\u001b[?25hCollecting multivolumefile>=0.2.3\r\n",
      "  Downloading multivolumefile-0.2.3-py3-none-any.whl (17 kB)\r\n",
      "Collecting brotli>=1.0.9\r\n",
      "  Downloading Brotli-1.0.9-cp37-cp37m-manylinux1_x86_64.whl (357 kB)\r\n",
      "\u001b[K     |████████████████████████████████| 357 kB 7.6 MB/s \r\n",
      "\u001b[?25hRequirement already satisfied: cffi>=1.14.0 in /opt/conda/lib/python3.7/site-packages (from bcj-cffi<0.6.0,>=0.5.1->py7zr) (1.14.5)\r\n",
      "Requirement already satisfied: pycparser in /opt/conda/lib/python3.7/site-packages (from cffi>=1.14.0->bcj-cffi<0.6.0,>=0.5.1->py7zr) (2.20)\r\n",
      "Requirement already satisfied: typing-extensions>=3.6.4 in /opt/conda/lib/python3.7/site-packages (from importlib-metadata->py7zr) (3.7.4.3)\r\n",
      "Requirement already satisfied: zipp>=0.5 in /opt/conda/lib/python3.7/site-packages (from importlib-metadata->py7zr) (3.4.0)\r\n",
      "Installing collected packages: pyzstd, pyppmd, pycryptodomex, multivolumefile, brotli, bcj-cffi, py7zr\r\n",
      "Successfully installed bcj-cffi-0.5.1 brotli-1.0.9 multivolumefile-0.2.3 py7zr-0.16.1 pycryptodomex-3.10.1 pyppmd-0.15.0 pyzstd-0.14.4\r\n",
      "/kaggle/src/script.ipynb\n",
      "/kaggle/lib/kaggle/gcp.py\n",
      "/kaggle/test/data/processed/test.json\n",
      "/kaggle/input/statoil-iceberg-classifier-challenge/train.json.7z\n",
      "/kaggle/input/statoil-iceberg-classifier-challenge/test.json.7z\n",
      "/kaggle/input/statoil-iceberg-classifier-challenge/sample_submission.csv.7z\n",
      "/kaggle/train/data/processed/train.json\n",
      "/kaggle/working/__notebook__.ipynb\n"
     ]
    }
   ],
   "source": [
    "!pip install py7zr\n",
    "import py7zr\n",
    "import os\n",
    "\n",
    "if not os.path.exists('/kaggle/train/') :\n",
    "    os.makedirs('/kaggle/train/')\n",
    "\n",
    "if not os.path.exists('/kaggle/test/') :\n",
    "    os.makedirs('/kaggle/test/')\n",
    "\n",
    "with py7zr.SevenZipFile(\"/kaggle/input/statoil-iceberg-classifier-challenge/train.json.7z\", 'r') as archive:\n",
    "    archive.extractall(path=\"/kaggle/train\")\n",
    "\n",
    "with py7zr.SevenZipFile(\"/kaggle/input/statoil-iceberg-classifier-challenge/test.json.7z\", 'r') as archive:\n",
    "    archive.extractall(path=\"/kaggle/test\")\n",
    "\n",
    "for dirname, _, filenames in os.walk('/kaggle'): \n",
    "    for filename in filenames: \n",
    "        print(os.path.join(dirname, filename))"
   ]
  },
  {
   "cell_type": "code",
   "execution_count": 3,
   "id": "abandoned-calgary",
   "metadata": {
    "execution": {
     "iopub.execute_input": "2021-05-23T06:33:56.611676Z",
     "iopub.status.busy": "2021-05-23T06:33:56.611000Z",
     "iopub.status.idle": "2021-05-23T06:33:57.547558Z",
     "shell.execute_reply": "2021-05-23T06:33:57.546564Z",
     "shell.execute_reply.started": "2021-05-22T06:38:55.586846Z"
    },
    "papermill": {
     "duration": 0.982405,
     "end_time": "2021-05-23T06:33:57.547713",
     "exception": false,
     "start_time": "2021-05-23T06:33:56.565308",
     "status": "completed"
    },
    "tags": []
   },
   "outputs": [],
   "source": [
    "from sklearn.model_selection import train_test_split\n",
    "from sklearn.metrics import log_loss\n",
    "from sklearn.model_selection import StratifiedKFold, StratifiedShuffleSplit\n",
    "from os.path import join as opj\n",
    "from matplotlib import pyplot as plt\n",
    "from mpl_toolkits.mplot3d import Axes3D\n",
    "import pylab\n",
    "plt.rcParams['figure.figsize']= 10,10\n",
    "%matplotlib inline"
   ]
  },
  {
   "cell_type": "code",
   "execution_count": 4,
   "id": "upset-virus",
   "metadata": {
    "execution": {
     "iopub.execute_input": "2021-05-23T06:33:57.630241Z",
     "iopub.status.busy": "2021-05-23T06:33:57.629623Z",
     "iopub.status.idle": "2021-05-23T06:34:07.733774Z",
     "shell.execute_reply": "2021-05-23T06:34:07.733347Z",
     "shell.execute_reply.started": "2021-05-22T06:38:56.767437Z"
    },
    "papermill": {
     "duration": 10.146159,
     "end_time": "2021-05-23T06:34:07.733884",
     "exception": false,
     "start_time": "2021-05-23T06:33:57.587725",
     "status": "completed"
    },
    "tags": []
   },
   "outputs": [],
   "source": [
    "train = pd.read_json('/kaggle/train/data/processed/train.json')\n",
    "target_train = train['is_iceberg']\n",
    "test = pd.read_json('/kaggle/test/data/processed/test.json')"
   ]
  },
  {
   "cell_type": "code",
   "execution_count": 5,
   "id": "encouraging-january",
   "metadata": {
    "execution": {
     "iopub.execute_input": "2021-05-23T06:34:07.792893Z",
     "iopub.status.busy": "2021-05-23T06:34:07.791297Z",
     "iopub.status.idle": "2021-05-23T06:34:07.798186Z",
     "shell.execute_reply": "2021-05-23T06:34:07.797798Z",
     "shell.execute_reply.started": "2021-05-22T06:39:16.921056Z"
    },
    "papermill": {
     "duration": 0.03879,
     "end_time": "2021-05-23T06:34:07.798309",
     "exception": false,
     "start_time": "2021-05-23T06:34:07.759519",
     "status": "completed"
    },
    "tags": []
   },
   "outputs": [
    {
     "data": {
      "text/plain": [
       "0       0\n",
       "1       0\n",
       "2       1\n",
       "3       0\n",
       "4       0\n",
       "       ..\n",
       "1599    0\n",
       "1600    0\n",
       "1601    0\n",
       "1602    0\n",
       "1603    0\n",
       "Name: is_iceberg, Length: 1604, dtype: int64"
      ]
     },
     "execution_count": 5,
     "metadata": {},
     "output_type": "execute_result"
    }
   ],
   "source": [
    "target_train"
   ]
  },
  {
   "cell_type": "markdown",
   "id": "fossil-cloud",
   "metadata": {
    "papermill": {
     "duration": 0.024964,
     "end_time": "2021-05-23T06:34:07.850160",
     "exception": false,
     "start_time": "2021-05-23T06:34:07.825196",
     "status": "completed"
    },
    "tags": []
   },
   "source": [
    "Keras provide the implementation of pretrained VGG, so don't have to build the net by ourselves.\n",
    "Here we are removing the last layer of VGG and putting our sigmoid layer for binary predictions."
   ]
  },
  {
   "cell_type": "code",
   "execution_count": 6,
   "id": "stopped-winning",
   "metadata": {
    "execution": {
     "iopub.execute_input": "2021-05-23T06:34:07.908156Z",
     "iopub.status.busy": "2021-05-23T06:34:07.907479Z",
     "iopub.status.idle": "2021-05-23T06:34:07.916063Z",
     "shell.execute_reply": "2021-05-23T06:34:07.915487Z",
     "shell.execute_reply.started": "2021-05-22T06:39:16.935109Z"
    },
    "papermill": {
     "duration": 0.040938,
     "end_time": "2021-05-23T06:34:07.916194",
     "exception": false,
     "start_time": "2021-05-23T06:34:07.875256",
     "status": "completed"
    },
    "tags": []
   },
   "outputs": [],
   "source": [
    "test['inc_angle']=pd.to_numeric(test['inc_angle'], errors='coerce')\n",
    "train['inc_angle']=pd.to_numeric(train['inc_angle'], errors='coerce')\n",
    "\n",
    "train['inc_angle']=train['inc_angle'].fillna(method='pad')\n",
    "X_angle=train['inc_angle']\n",
    "test['inc_angle']=pd.to_numeric(test['inc_angle'], errors='coerce')\n",
    "X_test_angle=test['inc_angle']"
   ]
  },
  {
   "cell_type": "code",
   "execution_count": 7,
   "id": "cordless-meter",
   "metadata": {
    "execution": {
     "iopub.execute_input": "2021-05-23T06:34:08.009257Z",
     "iopub.status.busy": "2021-05-23T06:34:08.008493Z",
     "iopub.status.idle": "2021-05-23T06:34:08.677712Z",
     "shell.execute_reply": "2021-05-23T06:34:08.677062Z",
     "shell.execute_reply.started": "2021-05-22T06:39:16.956408Z"
    },
    "papermill": {
     "duration": 0.723175,
     "end_time": "2021-05-23T06:34:08.677845",
     "exception": false,
     "start_time": "2021-05-23T06:34:07.954670",
     "status": "completed"
    },
    "tags": []
   },
   "outputs": [],
   "source": [
    "X_band_1 = np.array([np.array(band).astype(np.float32).reshape(75,75) for band in train[\"band_1\"]])\n",
    "X_band_2 = np.array([np.array(band).astype(np.float32).reshape(75,75) for band in train[\"band_2\"]])\n",
    "X_band_3 = (X_band_1+X_band_2)/2\n",
    "\n",
    "X_train = np.concatenate([X_band_1[:,:,:,np.newaxis], X_band_2[:,:,:,np.newaxis], X_band_3[:,:,:,np.newaxis]], axis=-1)"
   ]
  },
  {
   "cell_type": "code",
   "execution_count": 8,
   "id": "furnished-trustee",
   "metadata": {
    "execution": {
     "iopub.execute_input": "2021-05-23T06:34:08.760156Z",
     "iopub.status.busy": "2021-05-23T06:34:08.759319Z",
     "iopub.status.idle": "2021-05-23T06:34:12.149103Z",
     "shell.execute_reply": "2021-05-23T06:34:12.148558Z",
     "shell.execute_reply.started": "2021-05-22T06:39:19.214717Z"
    },
    "papermill": {
     "duration": 3.432193,
     "end_time": "2021-05-23T06:34:12.149236",
     "exception": false,
     "start_time": "2021-05-23T06:34:08.717043",
     "status": "completed"
    },
    "tags": []
   },
   "outputs": [],
   "source": [
    "X_band_test_1 = np.array([np.array(band).astype(np.float32).reshape(75,75) for band in test[\"band_1\"]])\n",
    "X_band_test_2 = np.array([np.array(band).astype(np.float32).reshape(75,75) for band in test[\"band_2\"]])\n",
    "X_band_test_3 = (X_band_test_1+X_band_test_2)/2\n",
    "\n",
    "X_test = np.concatenate([X_band_test_1[:,:,:,np.newaxis], X_band_test_2[:,:,:,np.newaxis], X_band_test_3[:,:,:,np.newaxis]], axis=-1)"
   ]
  },
  {
   "cell_type": "code",
   "execution_count": 9,
   "id": "acoustic-brazil",
   "metadata": {
    "execution": {
     "iopub.execute_input": "2021-05-23T06:34:12.233663Z",
     "iopub.status.busy": "2021-05-23T06:34:12.233153Z",
     "iopub.status.idle": "2021-05-23T06:34:19.388311Z",
     "shell.execute_reply": "2021-05-23T06:34:19.387901Z",
     "shell.execute_reply.started": "2021-05-22T06:39:30.648302Z"
    },
    "papermill": {
     "duration": 7.200469,
     "end_time": "2021-05-23T06:34:19.388420",
     "exception": false,
     "start_time": "2021-05-23T06:34:12.187951",
     "status": "completed"
    },
    "tags": []
   },
   "outputs": [],
   "source": [
    "from matplotlib import pyplot\n",
    "from keras.optimizers import RMSprop\n",
    "from keras.preprocessing.image import ImageDataGenerator\n",
    "from keras.models import Sequential\n",
    "from keras.layers import Conv2D, MaxPooling2D, Dense, Dropout, Input, Flatten, Activation\n",
    "from keras.layers import GlobalMaxPooling2D\n",
    "from keras.layers.normalization import BatchNormalization\n",
    "from keras.layers.merge import Concatenate\n",
    "from keras.models import Model\n",
    "from keras import initializers\n",
    "from keras.optimizers import Adam\n",
    "from keras.optimizers import RMSprop\n",
    "from keras.layers.advanced_activations import LeakyReLU, PReLU\n",
    "from keras.optimizers import SGD\n",
    "from keras.callbacks import ModelCheckpoint, Callback, EarlyStopping\n",
    "\n",
    "from keras.datasets import cifar10\n",
    "from keras.applications.inception_v3 import InceptionV3\n",
    "from keras.applications.vgg16 import VGG16\n",
    "from keras.applications.xception import Xception\n",
    "from keras.applications.mobilenet import MobileNet\n",
    "from keras.applications.vgg19 import VGG19\n",
    "from keras.layers import Concatenate, Dense, LSTM, Input, concatenate\n",
    "from keras.preprocessing import image\n",
    "from keras.applications.vgg19 import preprocess_input\n"
   ]
  },
  {
   "cell_type": "code",
   "execution_count": 10,
   "id": "nearby-division",
   "metadata": {
    "execution": {
     "iopub.execute_input": "2021-05-23T06:34:19.449019Z",
     "iopub.status.busy": "2021-05-23T06:34:19.448196Z",
     "iopub.status.idle": "2021-05-23T06:34:19.450363Z",
     "shell.execute_reply": "2021-05-23T06:34:19.450881Z",
     "shell.execute_reply.started": "2021-05-22T06:39:41.821403Z"
    },
    "papermill": {
     "duration": 0.036785,
     "end_time": "2021-05-23T06:34:19.451042",
     "exception": false,
     "start_time": "2021-05-23T06:34:19.414257",
     "status": "completed"
    },
    "tags": []
   },
   "outputs": [],
   "source": [
    "# Data Augmentation for multi-input\n",
    "from keras.preprocessing.image import ImageDataGenerator\n",
    "batch_size = 64\n",
    "# Define the image transformations\n",
    "gen = ImageDataGenerator(\n",
    "\n",
    "    horizontal_flip = True,\n",
    "    vertical_flip = True,\n",
    "    width_shift_range = 0.,\n",
    "    height_shift_range = 0.,\n",
    "    channel_shift_range =0,\n",
    "    zoom_range = 0.2,\n",
    "    rotation_range = 10\n",
    "    \n",
    ")"
   ]
  },
  {
   "cell_type": "code",
   "execution_count": 11,
   "id": "republican-michael",
   "metadata": {
    "execution": {
     "iopub.execute_input": "2021-05-23T06:34:19.546666Z",
     "iopub.status.busy": "2021-05-23T06:34:19.537884Z",
     "iopub.status.idle": "2021-05-23T06:34:19.550545Z",
     "shell.execute_reply": "2021-05-23T06:34:19.550025Z",
     "shell.execute_reply.started": "2021-05-22T06:39:41.83569Z"
    },
    "papermill": {
     "duration": 0.061151,
     "end_time": "2021-05-23T06:34:19.550694",
     "exception": false,
     "start_time": "2021-05-23T06:34:19.489543",
     "status": "completed"
    },
    "tags": []
   },
   "outputs": [],
   "source": [
    "# Function that merges two genetators\n",
    "def gen_flow_for_two_inputs(X1,X2,y):\n",
    "    genX1 = gen.flow(X1, y, batch_size=batch_size, seed=55)\n",
    "    genX2 = gen.flow(X1,X2, batch_size=batch_size, seed=55)\n",
    "    while True:\n",
    "        X1i = genX1.next()\n",
    "        X2i = genX2.next()\n",
    "        # Assert arrays are equal, peace of mind, but slow down training\n",
    "        # np.testing.assert_array_equal(X1i[0],X2i[0])\n",
    "        yield [X1i[0], X2i[1]], X1i[1]\n",
    "\n",
    "        \n",
    "# Function that create generator\n",
    "def get_callbacks(filepath, patience=2):\n",
    "    es = EarlyStopping('val_loss', patience=10, mode=\"min\")\n",
    "    msave = ModelCheckpoint(filepath, save_best_only=True)\n",
    "    return [es,msave]\n",
    "\n",
    "def getVggAngleModel():\n",
    "    input_2 = Input(shape=[1], name=\"angle\")\n",
    "    angle_layer = Dense(1, )(input_2)\n",
    "    base_model = VGG16(weights='imagenet', include_top=False, \n",
    "                 input_shape=X_train.shape[1:], classes=1)\n",
    "    \n",
    "    x = base_model.get_layer('block5_pool').output\n",
    "    \n",
    "    x = GlobalMaxPooling2D()(x)\n",
    "    merge_one = concatenate([x, angle_layer])\n",
    "    merge_one = Dense(512, activation='relu', name='fc2')(merge_one)\n",
    "    merge_one = Dropout(0.3)(merge_one)\n",
    "    merge_one = Dense(512, activation='relu', name='fc3')(merge_one)\n",
    "    merge_one = Dropout(0.3)(merge_one)\n",
    "    \n",
    "    predictions = Dense(1, activation='sigmoid')(merge_one)\n",
    "    \n",
    "    model = Model([base_model.input, input_2], predictions)\n",
    "    \n",
    "    \n",
    "    sgd = SGD(lr=1e-3, decay=1e-6, momentum=0.9, nesterov=True)\n",
    "    model.compile(loss='binary_crossentropy',\n",
    "                  optimizer=sgd,\n",
    "                  metrics=['accuracy'])\n",
    "    return model\n",
    "\n",
    "\n",
    "\n",
    "# using K-fold Cross Validation with Data Augmentation\n",
    "def myAngleCV(X_train, X_angle, X_test):\n",
    "    K=3\n",
    "    folds = list(StratifiedKFold(n_splits=K, shuffle=True, random_state=16).split(X_train, target_train))\n",
    "    y_test_pred_log = 0\n",
    "    y_train_pred_log = 0\n",
    "    y_valid_pred_log = 0.0*target_train\n",
    "    for j, (train_idx, test_idx) in enumerate(folds):\n",
    "        print('\\n=================FOLD=',j)\n",
    "        X_train_cv = X_train[train_idx]\n",
    "        y_train_cv = target_train[train_idx]\n",
    "        X_holdout = X_train[test_idx]\n",
    "        Y_holdout = target_train[test_idx]\n",
    "        \n",
    "        X_angle_cv  = X_angle[train_idx]\n",
    "        X_angle_hold = X_angle[test_idx]\n",
    "        \n",
    "        # define file path and get callbacks\n",
    "        file_path = \"%s_aug_model_weights.hdf5\"%j\n",
    "        callbacks = get_callbacks(filepath=file_path, patience=5)\n",
    "        gen_flow = gen_flow_for_two_inputs(X_train_cv, X_angle_cv, y_train_cv)\n",
    "        \n",
    "        galaxyModel = getVggAngleModel()\n",
    "        galaxyModel.fit_generator(\n",
    "        \n",
    "            gen_flow,\n",
    "            steps_per_epoch = 24,\n",
    "            epochs = 100,\n",
    "            shuffle = True,\n",
    "            verbose = 1,\n",
    "            validation_data = ([X_holdout, X_angle_hold], Y_holdout), \n",
    "            callbacks=callbacks\n",
    "            \n",
    "        )\n",
    "        \n",
    "        # Getting the bast model\n",
    "        galaxyModel.load_weights(filepath=file_path)\n",
    "        # Getting training score\n",
    "        score = galaxyModel.evaluate([X_train_cv, X_angle_cv], y_train_cv, verbose=0)\n",
    "        print('Train Loss: ',score[0])\n",
    "        print('Train Accuracy: ',score[1])\n",
    "        \n",
    "        # Getting test score\n",
    "        score = galaxyModel.evaluate([X_holdout, X_angle_hold], Y_holdout, verbose=0)\n",
    "        print('Test Loss: ',score[0])\n",
    "        print('Test accuracy: ',score[1])\n",
    "        \n",
    "        # Getting validation score\n",
    "        pred_valid = galaxyModel.predict([X_holdout, X_angle_hold])\n",
    "        y_valid_pred_log[test_idx] = pred_valid.reshape(pred_valid.shape[0])\n",
    "        \n",
    "        #Getting Test Scores\n",
    "        temp_test=galaxyModel.predict([X_test, X_test_angle])\n",
    "        y_test_pred_log+=temp_test.reshape(temp_test.shape[0])\n",
    "\n",
    "        #Getting Train Scores\n",
    "        temp_train=galaxyModel.predict([X_train, X_angle])\n",
    "        y_train_pred_log+=temp_train.reshape(temp_train.shape[0])\n",
    "        \n",
    "    y_test_pred_log = y_test_pred_log/K\n",
    "    y_train_pred_log = y_train_pred_log/K\n",
    "    print('\\n Train Log Loss Validation= ',log_loss(target_train, y_train_pred_log))\n",
    "    print(' Test Log Loss Validation= ',log_loss(target_train, y_valid_pred_log))\n",
    "    return y_test_pred_log"
   ]
  },
  {
   "cell_type": "code",
   "execution_count": 12,
   "id": "hairy-swift",
   "metadata": {
    "execution": {
     "iopub.execute_input": "2021-05-23T06:34:19.631396Z",
     "iopub.status.busy": "2021-05-23T06:34:19.630879Z",
     "iopub.status.idle": "2021-05-23T10:20:12.896820Z",
     "shell.execute_reply": "2021-05-23T10:20:12.897214Z"
    },
    "papermill": {
     "duration": 13553.308307,
     "end_time": "2021-05-23T10:20:12.897380",
     "exception": false,
     "start_time": "2021-05-23T06:34:19.589073",
     "status": "completed"
    },
    "tags": []
   },
   "outputs": [
    {
     "name": "stdout",
     "output_type": "stream",
     "text": [
      "\n",
      "=================FOLD= 0\n",
      "Downloading data from https://storage.googleapis.com/tensorflow/keras-applications/vgg16/vgg16_weights_tf_dim_ordering_tf_kernels_notop.h5\n",
      "58892288/58889256 [==============================] - 1s 0us/step\n"
     ]
    },
    {
     "name": "stderr",
     "output_type": "stream",
     "text": [
      "/opt/conda/lib/python3.7/site-packages/tensorflow/python/keras/engine/training.py:1844: UserWarning: `Model.fit_generator` is deprecated and will be removed in a future version. Please use `Model.fit`, which supports generators.\n",
      "  warnings.warn('`Model.fit_generator` is deprecated and '\n"
     ]
    },
    {
     "name": "stdout",
     "output_type": "stream",
     "text": [
      "Epoch 1/100\n",
      "24/24 [==============================] - 153s 6s/step - loss: 0.7970 - accuracy: 0.5424 - val_loss: 0.5177 - val_accuracy: 0.7196\n",
      "Epoch 2/100\n",
      "24/24 [==============================] - 150s 6s/step - loss: 0.5092 - accuracy: 0.7146 - val_loss: 0.3365 - val_accuracy: 0.8299\n",
      "Epoch 3/100\n",
      "24/24 [==============================] - 148s 6s/step - loss: 0.3850 - accuracy: 0.8178 - val_loss: 0.2766 - val_accuracy: 0.8822\n",
      "Epoch 4/100\n",
      "24/24 [==============================] - 149s 6s/step - loss: 0.3043 - accuracy: 0.8523 - val_loss: 0.2822 - val_accuracy: 0.8785\n",
      "Epoch 5/100\n",
      "24/24 [==============================] - 147s 6s/step - loss: 0.3075 - accuracy: 0.8549 - val_loss: 0.2714 - val_accuracy: 0.8822\n",
      "Epoch 6/100\n",
      "24/24 [==============================] - 150s 6s/step - loss: 0.2951 - accuracy: 0.8535 - val_loss: 0.2499 - val_accuracy: 0.8841\n",
      "Epoch 7/100\n",
      "24/24 [==============================] - 148s 6s/step - loss: 0.2739 - accuracy: 0.8621 - val_loss: 0.2585 - val_accuracy: 0.8785\n",
      "Epoch 8/100\n",
      "24/24 [==============================] - 147s 6s/step - loss: 0.2510 - accuracy: 0.8959 - val_loss: 0.2418 - val_accuracy: 0.9084\n",
      "Epoch 9/100\n",
      "24/24 [==============================] - 148s 6s/step - loss: 0.2214 - accuracy: 0.9030 - val_loss: 0.2274 - val_accuracy: 0.9103\n",
      "Epoch 10/100\n",
      "24/24 [==============================] - 149s 6s/step - loss: 0.2146 - accuracy: 0.9120 - val_loss: 0.2269 - val_accuracy: 0.9121\n",
      "Epoch 11/100\n",
      "24/24 [==============================] - 147s 6s/step - loss: 0.2048 - accuracy: 0.9160 - val_loss: 0.2224 - val_accuracy: 0.9065\n",
      "Epoch 12/100\n",
      "24/24 [==============================] - 149s 6s/step - loss: 0.2310 - accuracy: 0.9023 - val_loss: 0.2241 - val_accuracy: 0.8991\n",
      "Epoch 13/100\n",
      "24/24 [==============================] - 147s 6s/step - loss: 0.1775 - accuracy: 0.9312 - val_loss: 0.2382 - val_accuracy: 0.9028\n",
      "Epoch 14/100\n",
      "24/24 [==============================] - 149s 6s/step - loss: 0.1772 - accuracy: 0.9270 - val_loss: 0.2648 - val_accuracy: 0.8916\n",
      "Epoch 15/100\n",
      "24/24 [==============================] - 149s 6s/step - loss: 0.2072 - accuracy: 0.9200 - val_loss: 0.2482 - val_accuracy: 0.9065\n",
      "Epoch 16/100\n",
      "24/24 [==============================] - 152s 6s/step - loss: 0.1883 - accuracy: 0.9279 - val_loss: 0.2542 - val_accuracy: 0.8953\n",
      "Epoch 17/100\n",
      "24/24 [==============================] - 147s 6s/step - loss: 0.1675 - accuracy: 0.9358 - val_loss: 0.2248 - val_accuracy: 0.9065\n",
      "Epoch 18/100\n",
      "24/24 [==============================] - 149s 6s/step - loss: 0.1770 - accuracy: 0.9265 - val_loss: 0.2492 - val_accuracy: 0.8972\n",
      "Epoch 19/100\n",
      "24/24 [==============================] - 149s 6s/step - loss: 0.1654 - accuracy: 0.9299 - val_loss: 0.2138 - val_accuracy: 0.9159\n",
      "Epoch 20/100\n",
      "24/24 [==============================] - 147s 6s/step - loss: 0.1632 - accuracy: 0.9280 - val_loss: 0.2348 - val_accuracy: 0.9234\n",
      "Epoch 21/100\n",
      "24/24 [==============================] - 149s 6s/step - loss: 0.1529 - accuracy: 0.9416 - val_loss: 0.2619 - val_accuracy: 0.9047\n",
      "Epoch 22/100\n",
      "24/24 [==============================] - 147s 6s/step - loss: 0.1816 - accuracy: 0.9316 - val_loss: 0.2458 - val_accuracy: 0.9178\n",
      "Epoch 23/100\n",
      "24/24 [==============================] - 149s 6s/step - loss: 0.1458 - accuracy: 0.9444 - val_loss: 0.2438 - val_accuracy: 0.9159\n",
      "Epoch 24/100\n",
      "24/24 [==============================] - 151s 6s/step - loss: 0.1593 - accuracy: 0.9284 - val_loss: 0.2451 - val_accuracy: 0.9065\n",
      "Epoch 25/100\n",
      "24/24 [==============================] - 147s 6s/step - loss: 0.1374 - accuracy: 0.9380 - val_loss: 0.2690 - val_accuracy: 0.9028\n",
      "Epoch 26/100\n",
      "24/24 [==============================] - 149s 6s/step - loss: 0.1499 - accuracy: 0.9362 - val_loss: 0.2337 - val_accuracy: 0.9121\n",
      "Epoch 27/100\n",
      "24/24 [==============================] - 148s 6s/step - loss: 0.1374 - accuracy: 0.9443 - val_loss: 0.2409 - val_accuracy: 0.9308\n",
      "Epoch 28/100\n",
      "24/24 [==============================] - 149s 6s/step - loss: 0.1182 - accuracy: 0.9562 - val_loss: 0.2490 - val_accuracy: 0.9252\n",
      "Epoch 29/100\n",
      "24/24 [==============================] - 149s 6s/step - loss: 0.1388 - accuracy: 0.9441 - val_loss: 0.2569 - val_accuracy: 0.9121\n",
      "Train Loss:  0.1290699690580368\n",
      "Train Accuracy:  0.9485500454902649\n",
      "Test Loss:  0.2138361930847168\n",
      "Test accuracy:  0.9158878326416016\n",
      "\n",
      "=================FOLD= 1\n",
      "Epoch 1/100\n",
      "24/24 [==============================] - 148s 6s/step - loss: 0.8527 - accuracy: 0.5219 - val_loss: 0.4979 - val_accuracy: 0.7121\n",
      "Epoch 2/100\n",
      "24/24 [==============================] - 147s 6s/step - loss: 0.4896 - accuracy: 0.7591 - val_loss: 0.3127 - val_accuracy: 0.8561\n",
      "Epoch 3/100\n",
      "24/24 [==============================] - 146s 6s/step - loss: 0.3548 - accuracy: 0.8436 - val_loss: 0.2478 - val_accuracy: 0.8860\n",
      "Epoch 4/100\n",
      "24/24 [==============================] - 149s 6s/step - loss: 0.3308 - accuracy: 0.8414 - val_loss: 0.2440 - val_accuracy: 0.8972\n",
      "Epoch 5/100\n",
      "24/24 [==============================] - 145s 6s/step - loss: 0.3096 - accuracy: 0.8521 - val_loss: 0.2338 - val_accuracy: 0.8935\n",
      "Epoch 6/100\n",
      "24/24 [==============================] - 146s 6s/step - loss: 0.2780 - accuracy: 0.8682 - val_loss: 0.2175 - val_accuracy: 0.8953\n",
      "Epoch 7/100\n",
      "24/24 [==============================] - 147s 6s/step - loss: 0.2598 - accuracy: 0.8800 - val_loss: 0.2321 - val_accuracy: 0.9028\n",
      "Epoch 8/100\n",
      "24/24 [==============================] - 143s 6s/step - loss: 0.2248 - accuracy: 0.9010 - val_loss: 0.2185 - val_accuracy: 0.9028\n",
      "Epoch 9/100\n",
      "24/24 [==============================] - 146s 6s/step - loss: 0.2789 - accuracy: 0.8565 - val_loss: 0.2196 - val_accuracy: 0.8879\n",
      "Epoch 10/100\n",
      "24/24 [==============================] - 147s 6s/step - loss: 0.2605 - accuracy: 0.8900 - val_loss: 0.2235 - val_accuracy: 0.8953\n",
      "Epoch 11/100\n",
      "24/24 [==============================] - 147s 6s/step - loss: 0.2490 - accuracy: 0.8935 - val_loss: 0.2231 - val_accuracy: 0.8841\n",
      "Epoch 12/100\n",
      "24/24 [==============================] - 146s 6s/step - loss: 0.2047 - accuracy: 0.9176 - val_loss: 0.2117 - val_accuracy: 0.9178\n",
      "Epoch 13/100\n",
      "24/24 [==============================] - 146s 6s/step - loss: 0.1990 - accuracy: 0.9217 - val_loss: 0.2159 - val_accuracy: 0.9084\n",
      "Epoch 14/100\n",
      "24/24 [==============================] - 146s 6s/step - loss: 0.1946 - accuracy: 0.9113 - val_loss: 0.2148 - val_accuracy: 0.9140\n",
      "Epoch 15/100\n",
      "24/24 [==============================] - 145s 6s/step - loss: 0.1863 - accuracy: 0.9122 - val_loss: 0.2134 - val_accuracy: 0.9196\n",
      "Epoch 16/100\n",
      "24/24 [==============================] - 147s 6s/step - loss: 0.1735 - accuracy: 0.9299 - val_loss: 0.2378 - val_accuracy: 0.9196\n",
      "Epoch 17/100\n",
      "24/24 [==============================] - 146s 6s/step - loss: 0.1899 - accuracy: 0.9243 - val_loss: 0.2568 - val_accuracy: 0.9028\n",
      "Epoch 18/100\n",
      "24/24 [==============================] - 148s 6s/step - loss: 0.1675 - accuracy: 0.9337 - val_loss: 0.1822 - val_accuracy: 0.9290\n",
      "Epoch 19/100\n",
      "24/24 [==============================] - 147s 6s/step - loss: 0.1711 - accuracy: 0.9299 - val_loss: 0.1921 - val_accuracy: 0.9140\n",
      "Epoch 20/100\n",
      "24/24 [==============================] - 146s 6s/step - loss: 0.1915 - accuracy: 0.9297 - val_loss: 0.2174 - val_accuracy: 0.9028\n",
      "Epoch 21/100\n",
      "24/24 [==============================] - 149s 6s/step - loss: 0.1502 - accuracy: 0.9429 - val_loss: 0.2117 - val_accuracy: 0.9028\n",
      "Epoch 22/100\n",
      "24/24 [==============================] - 146s 6s/step - loss: 0.1595 - accuracy: 0.9336 - val_loss: 0.2180 - val_accuracy: 0.8972\n",
      "Epoch 23/100\n",
      "24/24 [==============================] - 148s 6s/step - loss: 0.1542 - accuracy: 0.9386 - val_loss: 0.2033 - val_accuracy: 0.9271\n",
      "Epoch 24/100\n",
      "24/24 [==============================] - 148s 6s/step - loss: 0.1371 - accuracy: 0.9493 - val_loss: 0.2393 - val_accuracy: 0.8860\n",
      "Epoch 25/100\n",
      "24/24 [==============================] - 145s 6s/step - loss: 0.1532 - accuracy: 0.9324 - val_loss: 0.2153 - val_accuracy: 0.9084\n",
      "Epoch 26/100\n",
      "24/24 [==============================] - 148s 6s/step - loss: 0.1232 - accuracy: 0.9498 - val_loss: 0.2218 - val_accuracy: 0.9028\n",
      "Epoch 27/100\n",
      "24/24 [==============================] - 144s 6s/step - loss: 0.1418 - accuracy: 0.9413 - val_loss: 0.2624 - val_accuracy: 0.9009\n",
      "Epoch 28/100\n",
      "24/24 [==============================] - 148s 6s/step - loss: 0.1232 - accuracy: 0.9574 - val_loss: 0.2716 - val_accuracy: 0.8860\n",
      "Train Loss:  0.1480153352022171\n",
      "Train Accuracy:  0.9410664439201355\n",
      "Test Loss:  0.18223275244235992\n",
      "Test accuracy:  0.9289719462394714\n",
      "\n",
      "=================FOLD= 2\n",
      "Epoch 1/100\n",
      "24/24 [==============================] - 149s 6s/step - loss: 0.8723 - accuracy: 0.5828 - val_loss: 0.5337 - val_accuracy: 0.7228\n",
      "Epoch 2/100\n",
      "24/24 [==============================] - 147s 6s/step - loss: 0.5397 - accuracy: 0.7299 - val_loss: 0.4925 - val_accuracy: 0.7491\n",
      "Epoch 3/100\n",
      "24/24 [==============================] - 147s 6s/step - loss: 0.3735 - accuracy: 0.8156 - val_loss: 0.3205 - val_accuracy: 0.8427\n",
      "Epoch 4/100\n",
      "24/24 [==============================] - 148s 6s/step - loss: 0.3235 - accuracy: 0.8505 - val_loss: 0.2902 - val_accuracy: 0.8783\n",
      "Epoch 5/100\n",
      "24/24 [==============================] - 145s 6s/step - loss: 0.3347 - accuracy: 0.8422 - val_loss: 0.2916 - val_accuracy: 0.8708\n",
      "Epoch 6/100\n",
      "24/24 [==============================] - 148s 6s/step - loss: 0.2723 - accuracy: 0.8887 - val_loss: 0.2508 - val_accuracy: 0.8970\n",
      "Epoch 7/100\n",
      "24/24 [==============================] - 147s 6s/step - loss: 0.2414 - accuracy: 0.8929 - val_loss: 0.2536 - val_accuracy: 0.8970\n",
      "Epoch 8/100\n",
      "24/24 [==============================] - 146s 6s/step - loss: 0.2428 - accuracy: 0.9007 - val_loss: 0.2665 - val_accuracy: 0.8895\n",
      "Epoch 9/100\n",
      "24/24 [==============================] - 149s 6s/step - loss: 0.2688 - accuracy: 0.8829 - val_loss: 0.2493 - val_accuracy: 0.8989\n",
      "Epoch 10/100\n",
      "24/24 [==============================] - 149s 6s/step - loss: 0.2279 - accuracy: 0.9097 - val_loss: 0.2509 - val_accuracy: 0.8951\n",
      "Epoch 11/100\n",
      "24/24 [==============================] - 148s 6s/step - loss: 0.2107 - accuracy: 0.9170 - val_loss: 0.2480 - val_accuracy: 0.9064\n",
      "Epoch 12/100\n",
      "24/24 [==============================] - 149s 6s/step - loss: 0.2123 - accuracy: 0.9170 - val_loss: 0.2653 - val_accuracy: 0.9026\n",
      "Epoch 13/100\n",
      "24/24 [==============================] - 146s 6s/step - loss: 0.2230 - accuracy: 0.9075 - val_loss: 0.2421 - val_accuracy: 0.9064\n",
      "Epoch 14/100\n",
      "24/24 [==============================] - 148s 6s/step - loss: 0.2171 - accuracy: 0.9132 - val_loss: 0.2465 - val_accuracy: 0.9045\n",
      "Epoch 15/100\n",
      "24/24 [==============================] - 146s 6s/step - loss: 0.1879 - accuracy: 0.9202 - val_loss: 0.2428 - val_accuracy: 0.9064\n",
      "Epoch 16/100\n",
      "24/24 [==============================] - 146s 6s/step - loss: 0.1741 - accuracy: 0.9285 - val_loss: 0.2398 - val_accuracy: 0.9139\n",
      "Epoch 17/100\n",
      "24/24 [==============================] - 146s 6s/step - loss: 0.1938 - accuracy: 0.9213 - val_loss: 0.2616 - val_accuracy: 0.9064\n",
      "Epoch 18/100\n",
      "24/24 [==============================] - 147s 6s/step - loss: 0.1495 - accuracy: 0.9428 - val_loss: 0.2786 - val_accuracy: 0.8970\n",
      "Epoch 19/100\n",
      "24/24 [==============================] - 148s 6s/step - loss: 0.1745 - accuracy: 0.9286 - val_loss: 0.2699 - val_accuracy: 0.8951\n",
      "Epoch 20/100\n",
      "24/24 [==============================] - 145s 6s/step - loss: 0.1797 - accuracy: 0.9241 - val_loss: 0.2397 - val_accuracy: 0.9120\n",
      "Epoch 21/100\n",
      "24/24 [==============================] - 147s 6s/step - loss: 0.1492 - accuracy: 0.9315 - val_loss: 0.2654 - val_accuracy: 0.9082\n",
      "Epoch 22/100\n",
      "24/24 [==============================] - 147s 6s/step - loss: 0.1644 - accuracy: 0.9316 - val_loss: 0.2672 - val_accuracy: 0.8989\n",
      "Epoch 23/100\n",
      "24/24 [==============================] - 147s 6s/step - loss: 0.1293 - accuracy: 0.9455 - val_loss: 0.2449 - val_accuracy: 0.9082\n",
      "Epoch 24/100\n",
      "24/24 [==============================] - 146s 6s/step - loss: 0.1483 - accuracy: 0.9422 - val_loss: 0.2863 - val_accuracy: 0.9007\n",
      "Epoch 25/100\n",
      "24/24 [==============================] - 144s 6s/step - loss: 0.1391 - accuracy: 0.9415 - val_loss: 0.2784 - val_accuracy: 0.9082\n",
      "Epoch 26/100\n",
      "24/24 [==============================] - 145s 6s/step - loss: 0.1454 - accuracy: 0.9409 - val_loss: 0.2594 - val_accuracy: 0.8933\n",
      "Epoch 27/100\n",
      "24/24 [==============================] - 145s 6s/step - loss: 0.1424 - accuracy: 0.9425 - val_loss: 0.2532 - val_accuracy: 0.9120\n",
      "Epoch 28/100\n",
      "24/24 [==============================] - 148s 6s/step - loss: 0.1026 - accuracy: 0.9683 - val_loss: 0.2620 - val_accuracy: 0.9101\n",
      "Epoch 29/100\n",
      "24/24 [==============================] - 148s 6s/step - loss: 0.1065 - accuracy: 0.9580 - val_loss: 0.2817 - val_accuracy: 0.9007\n",
      "Epoch 30/100\n",
      "24/24 [==============================] - 145s 6s/step - loss: 0.1110 - accuracy: 0.9512 - val_loss: 0.2795 - val_accuracy: 0.8989\n",
      "Train Loss:  0.1017090305685997\n",
      "Train Accuracy:  0.9588785171508789\n",
      "Test Loss:  0.23966678977012634\n",
      "Test accuracy:  0.9119850397109985\n",
      "\n",
      " Train Log Loss Validation=  0.13835937922214664\n",
      " Test Log Loss Validation=  0.21189459044437506\n"
     ]
    }
   ],
   "source": [
    "preds = myAngleCV(X_train, X_angle, X_test)"
   ]
  },
  {
   "cell_type": "code",
   "execution_count": 13,
   "id": "boolean-virgin",
   "metadata": {
    "execution": {
     "iopub.execute_input": "2021-05-23T10:20:14.085636Z",
     "iopub.status.busy": "2021-05-23T10:20:14.085159Z",
     "iopub.status.idle": "2021-05-23T10:20:14.122320Z",
     "shell.execute_reply": "2021-05-23T10:20:14.121765Z"
    },
    "papermill": {
     "duration": 0.625826,
     "end_time": "2021-05-23T10:20:14.122439",
     "exception": false,
     "start_time": "2021-05-23T10:20:13.496613",
     "status": "completed"
    },
    "tags": []
   },
   "outputs": [],
   "source": [
    "submission = pd.DataFrame()\n",
    "submission['id'] = test['id']\n",
    "submission['is_iceberg'] = preds\n",
    "submission.to_csv('sub.csv', index=False)"
   ]
  },
  {
   "cell_type": "code",
   "execution_count": null,
   "id": "beautiful-asbestos",
   "metadata": {
    "papermill": {
     "duration": 0.588858,
     "end_time": "2021-05-23T10:20:15.304990",
     "exception": false,
     "start_time": "2021-05-23T10:20:14.716132",
     "status": "completed"
    },
    "tags": []
   },
   "outputs": [],
   "source": []
  },
  {
   "cell_type": "code",
   "execution_count": null,
   "id": "tropical-revelation",
   "metadata": {
    "papermill": {
     "duration": 0.645097,
     "end_time": "2021-05-23T10:20:16.546606",
     "exception": false,
     "start_time": "2021-05-23T10:20:15.901509",
     "status": "completed"
    },
    "tags": []
   },
   "outputs": [],
   "source": []
  },
  {
   "cell_type": "code",
   "execution_count": null,
   "id": "enclosed-collection",
   "metadata": {
    "papermill": {
     "duration": 0.594565,
     "end_time": "2021-05-23T10:20:17.754883",
     "exception": false,
     "start_time": "2021-05-23T10:20:17.160318",
     "status": "completed"
    },
    "tags": []
   },
   "outputs": [],
   "source": []
  },
  {
   "cell_type": "code",
   "execution_count": null,
   "id": "modular-community",
   "metadata": {
    "papermill": {
     "duration": 0.603462,
     "end_time": "2021-05-23T10:20:18.957222",
     "exception": false,
     "start_time": "2021-05-23T10:20:18.353760",
     "status": "completed"
    },
    "tags": []
   },
   "outputs": [],
   "source": []
  },
  {
   "cell_type": "code",
   "execution_count": null,
   "id": "brilliant-chemistry",
   "metadata": {
    "papermill": {
     "duration": 0.593853,
     "end_time": "2021-05-23T10:20:20.154667",
     "exception": false,
     "start_time": "2021-05-23T10:20:19.560814",
     "status": "completed"
    },
    "tags": []
   },
   "outputs": [],
   "source": []
  },
  {
   "cell_type": "code",
   "execution_count": null,
   "id": "complex-incentive",
   "metadata": {
    "papermill": {
     "duration": 0.592515,
     "end_time": "2021-05-23T10:20:21.339316",
     "exception": false,
     "start_time": "2021-05-23T10:20:20.746801",
     "status": "completed"
    },
    "tags": []
   },
   "outputs": [],
   "source": []
  },
  {
   "cell_type": "code",
   "execution_count": null,
   "id": "minute-equivalent",
   "metadata": {
    "papermill": {
     "duration": 0.594786,
     "end_time": "2021-05-23T10:20:22.533071",
     "exception": false,
     "start_time": "2021-05-23T10:20:21.938285",
     "status": "completed"
    },
    "tags": []
   },
   "outputs": [],
   "source": []
  },
  {
   "cell_type": "code",
   "execution_count": null,
   "id": "august-namibia",
   "metadata": {
    "papermill": {
     "duration": 0.587964,
     "end_time": "2021-05-23T10:20:23.713429",
     "exception": false,
     "start_time": "2021-05-23T10:20:23.125465",
     "status": "completed"
    },
    "tags": []
   },
   "outputs": [],
   "source": []
  }
 ],
 "metadata": {
  "kernelspec": {
   "display_name": "Python 3",
   "language": "python",
   "name": "python3"
  },
  "language_info": {
   "codemirror_mode": {
    "name": "ipython",
    "version": 3
   },
   "file_extension": ".py",
   "mimetype": "text/x-python",
   "name": "python",
   "nbconvert_exporter": "python",
   "pygments_lexer": "ipython3",
   "version": "3.7.9"
  },
  "papermill": {
   "default_parameters": {},
   "duration": 13639.600509,
   "end_time": "2021-05-23T10:20:27.833273",
   "environment_variables": {},
   "exception": null,
   "input_path": "__notebook__.ipynb",
   "output_path": "__notebook__.ipynb",
   "parameters": {},
   "start_time": "2021-05-23T06:33:08.232764",
   "version": "2.3.2"
  }
 },
 "nbformat": 4,
 "nbformat_minor": 5
}
